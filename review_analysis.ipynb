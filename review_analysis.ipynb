{
 "cells": [
  {
   "cell_type": "markdown",
   "metadata": {},
   "source": [
    "# Sentiment Analysis - British Airway Reviews"
   ]
  },
  {
   "cell_type": "code",
   "execution_count": 4,
   "metadata": {},
   "outputs": [],
   "source": [
    "# import libraries\n",
    "import pandas as pd\n",
    "import numpy as np\n",
    "import csv\n",
    "import pandas as pd\n",
    "import matplotlib.pyplot as plt\n",
    "import seaborn as sns\n",
    "import string\n",
    "import requests\n",
    "from bs4 import BeautifulSoup\n",
    "from vaderSentiment.vaderSentiment import SentimentIntensityAnalyzer\n",
    "from sklearn.feature_extraction.text import ENGLISH_STOP_WORDS\n",
    "from collections import Counter\n"
   ]
  },
  {
   "cell_type": "code",
   "execution_count": 5,
   "metadata": {},
   "outputs": [
    {
     "name": "stdout",
     "output_type": "stream",
     "text": [
      "Scraping page 1\n",
      "   ---> 100 total reviews\n",
      "Scraping page 2\n",
      "   ---> 200 total reviews\n",
      "Scraping page 3\n",
      "   ---> 300 total reviews\n",
      "Scraping page 4\n",
      "   ---> 400 total reviews\n",
      "Scraping page 5\n",
      "   ---> 500 total reviews\n",
      "Scraping page 6\n",
      "   ---> 600 total reviews\n",
      "Scraping page 7\n",
      "   ---> 700 total reviews\n",
      "Scraping page 8\n",
      "   ---> 800 total reviews\n",
      "Scraping page 9\n",
      "   ---> 900 total reviews\n",
      "Scraping page 10\n",
      "   ---> 1000 total reviews\n"
     ]
    }
   ],
   "source": [
    "base_url = \"https://www.airlinequality.com/airline-reviews/british-airways\"\n",
    "pages = 10\n",
    "page_size = 100\n",
    "\n",
    "reviews = []\n",
    "\n",
    "# for i in range(1, pages + 1):\n",
    "for i in range(1, pages + 1):\n",
    "\n",
    "    print(f\"Scraping page {i}\")\n",
    "\n",
    "    # Create URL to collect links from paginated data\n",
    "    url = f\"{base_url}/page/{i}/?sortby=post_date%3ADesc&pagesize={page_size}\"\n",
    "\n",
    "    # Collect HTML data from this page\n",
    "    response = requests.get(url)\n",
    "\n",
    "    # Parse content\n",
    "    content = response.content\n",
    "    parsed_content = BeautifulSoup(content, 'html.parser')\n",
    "    for para in parsed_content.find_all(\"div\", {\"class\": \"text_content\"}):\n",
    "        reviews.append(para.get_text())\n",
    "    \n",
    "    print(f\"   ---> {len(reviews)} total reviews\")"
   ]
  },
  {
   "cell_type": "code",
   "execution_count": 6,
   "metadata": {},
   "outputs": [
    {
     "data": {
      "text/html": [
       "<div>\n",
       "<style scoped>\n",
       "    .dataframe tbody tr th:only-of-type {\n",
       "        vertical-align: middle;\n",
       "    }\n",
       "\n",
       "    .dataframe tbody tr th {\n",
       "        vertical-align: top;\n",
       "    }\n",
       "\n",
       "    .dataframe thead th {\n",
       "        text-align: right;\n",
       "    }\n",
       "</style>\n",
       "<table border=\"1\" class=\"dataframe\">\n",
       "  <thead>\n",
       "    <tr style=\"text-align: right;\">\n",
       "      <th></th>\n",
       "      <th>reviews</th>\n",
       "    </tr>\n",
       "  </thead>\n",
       "  <tbody>\n",
       "    <tr>\n",
       "      <th>0</th>\n",
       "      <td>✅ Trip Verified |   The seats were excellent, ...</td>\n",
       "    </tr>\n",
       "    <tr>\n",
       "      <th>1</th>\n",
       "      <td>✅ Trip Verified |   After the nightmare of get...</td>\n",
       "    </tr>\n",
       "    <tr>\n",
       "      <th>2</th>\n",
       "      <td>✅ Trip Verified |   Prior to boarding a gate a...</td>\n",
       "    </tr>\n",
       "    <tr>\n",
       "      <th>3</th>\n",
       "      <td>✅ Trip Verified |   I flew from Amsterdam to L...</td>\n",
       "    </tr>\n",
       "    <tr>\n",
       "      <th>4</th>\n",
       "      <td>✅ Trip Verified | First the good news, the clu...</td>\n",
       "    </tr>\n",
       "  </tbody>\n",
       "</table>\n",
       "</div>"
      ],
      "text/plain": [
       "                                             reviews\n",
       "0  ✅ Trip Verified |   The seats were excellent, ...\n",
       "1  ✅ Trip Verified |   After the nightmare of get...\n",
       "2  ✅ Trip Verified |   Prior to boarding a gate a...\n",
       "3  ✅ Trip Verified |   I flew from Amsterdam to L...\n",
       "4  ✅ Trip Verified | First the good news, the clu..."
      ]
     },
     "execution_count": 6,
     "metadata": {},
     "output_type": "execute_result"
    }
   ],
   "source": [
    "df = pd.DataFrame()\n",
    "df[\"reviews\"] = reviews\n",
    "df.head()"
   ]
  },
  {
   "cell_type": "code",
   "execution_count": 7,
   "metadata": {},
   "outputs": [],
   "source": [
    "# save to csv for futher analysis\n",
    "df.to_csv(\"BA_reviews.csv\")"
   ]
  },
  {
   "cell_type": "code",
   "execution_count": 8,
   "metadata": {},
   "outputs": [
    {
     "name": "stdout",
     "output_type": "stream",
     "text": [
      "     Unnamed: 0                                            reviews\n",
      "0             0  ✅ Trip Verified |   The seats were excellent, ...\n",
      "1             1  ✅ Trip Verified |   After the nightmare of get...\n",
      "2             2  ✅ Trip Verified |   Prior to boarding a gate a...\n",
      "3             3  ✅ Trip Verified |   I flew from Amsterdam to L...\n",
      "4             4  ✅ Trip Verified | First the good news, the clu...\n",
      "..          ...                                                ...\n",
      "995         995  ✅ Trip Verified |  Sydney to London via Singap...\n",
      "996         996  Not Verified |  London to Johannesburg. Britis...\n",
      "997         997  ✅ Trip Verified | I have to say travelling in ...\n",
      "998         998  Not Verified |  I had a stress free journey wi...\n",
      "999         999  ✅ Trip Verified |  Edinburgh to Kuala Lumpur v...\n",
      "\n",
      "[1000 rows x 2 columns]\n"
     ]
    }
   ],
   "source": [
    "# load csv\n",
    "review_data = pd.read_csv('BA_reviews.csv')\n",
    "print(review_data)"
   ]
  },
  {
   "cell_type": "code",
   "execution_count": 9,
   "metadata": {},
   "outputs": [
    {
     "data": {
      "text/html": [
       "<div>\n",
       "<style scoped>\n",
       "    .dataframe tbody tr th:only-of-type {\n",
       "        vertical-align: middle;\n",
       "    }\n",
       "\n",
       "    .dataframe tbody tr th {\n",
       "        vertical-align: top;\n",
       "    }\n",
       "\n",
       "    .dataframe thead th {\n",
       "        text-align: right;\n",
       "    }\n",
       "</style>\n",
       "<table border=\"1\" class=\"dataframe\">\n",
       "  <thead>\n",
       "    <tr style=\"text-align: right;\">\n",
       "      <th></th>\n",
       "      <th>reviews</th>\n",
       "    </tr>\n",
       "  </thead>\n",
       "  <tbody>\n",
       "    <tr>\n",
       "      <th>0</th>\n",
       "      <td>✅ Trip Verified |   The seats were excellent, ...</td>\n",
       "    </tr>\n",
       "    <tr>\n",
       "      <th>1</th>\n",
       "      <td>✅ Trip Verified |   After the nightmare of get...</td>\n",
       "    </tr>\n",
       "    <tr>\n",
       "      <th>2</th>\n",
       "      <td>✅ Trip Verified |   Prior to boarding a gate a...</td>\n",
       "    </tr>\n",
       "    <tr>\n",
       "      <th>3</th>\n",
       "      <td>✅ Trip Verified |   I flew from Amsterdam to L...</td>\n",
       "    </tr>\n",
       "    <tr>\n",
       "      <th>4</th>\n",
       "      <td>✅ Trip Verified | First the good news, the clu...</td>\n",
       "    </tr>\n",
       "    <tr>\n",
       "      <th>5</th>\n",
       "      <td>✅ Trip Verified |   I have never travelled wit...</td>\n",
       "    </tr>\n",
       "    <tr>\n",
       "      <th>6</th>\n",
       "      <td>✅ Trip Verified | Terrible overall, medium ser...</td>\n",
       "    </tr>\n",
       "    <tr>\n",
       "      <th>7</th>\n",
       "      <td>✅ Trip Verified |   London Heathrow to Male In...</td>\n",
       "    </tr>\n",
       "    <tr>\n",
       "      <th>8</th>\n",
       "      <td>Not Verified |  Very good flight following an ...</td>\n",
       "    </tr>\n",
       "    <tr>\n",
       "      <th>9</th>\n",
       "      <td>Not Verified |  An hour's delay due to late ar...</td>\n",
       "    </tr>\n",
       "  </tbody>\n",
       "</table>\n",
       "</div>"
      ],
      "text/plain": [
       "                                             reviews\n",
       "0  ✅ Trip Verified |   The seats were excellent, ...\n",
       "1  ✅ Trip Verified |   After the nightmare of get...\n",
       "2  ✅ Trip Verified |   Prior to boarding a gate a...\n",
       "3  ✅ Trip Verified |   I flew from Amsterdam to L...\n",
       "4  ✅ Trip Verified | First the good news, the clu...\n",
       "5  ✅ Trip Verified |   I have never travelled wit...\n",
       "6  ✅ Trip Verified | Terrible overall, medium ser...\n",
       "7  ✅ Trip Verified |   London Heathrow to Male In...\n",
       "8  Not Verified |  Very good flight following an ...\n",
       "9  Not Verified |  An hour's delay due to late ar..."
      ]
     },
     "execution_count": 9,
     "metadata": {},
     "output_type": "execute_result"
    }
   ],
   "source": [
    "# drop index column\n",
    "df_review = review_data.drop('Unnamed: 0', axis = 1)\n",
    "df_review.head(10)"
   ]
  },
  {
   "cell_type": "code",
   "execution_count": 10,
   "metadata": {},
   "outputs": [
    {
     "data": {
      "text/plain": [
       "reviews    0\n",
       "dtype: int64"
      ]
     },
     "execution_count": 10,
     "metadata": {},
     "output_type": "execute_result"
    }
   ],
   "source": [
    "# check missing value\n",
    "missing_values = df_review.isnull().sum()\n",
    "missing_values"
   ]
  },
  {
   "cell_type": "code",
   "execution_count": 11,
   "metadata": {},
   "outputs": [
    {
     "data": {
      "text/html": [
       "<div>\n",
       "<style scoped>\n",
       "    .dataframe tbody tr th:only-of-type {\n",
       "        vertical-align: middle;\n",
       "    }\n",
       "\n",
       "    .dataframe tbody tr th {\n",
       "        vertical-align: top;\n",
       "    }\n",
       "\n",
       "    .dataframe thead th {\n",
       "        text-align: right;\n",
       "    }\n",
       "</style>\n",
       "<table border=\"1\" class=\"dataframe\">\n",
       "  <thead>\n",
       "    <tr style=\"text-align: right;\">\n",
       "      <th></th>\n",
       "      <th>reviews</th>\n",
       "    </tr>\n",
       "  </thead>\n",
       "  <tbody>\n",
       "    <tr>\n",
       "      <th>0</th>\n",
       "      <td>The seats were excellent, with a feel of much ...</td>\n",
       "    </tr>\n",
       "    <tr>\n",
       "      <th>1</th>\n",
       "      <td>After the nightmare of getting through triple ...</td>\n",
       "    </tr>\n",
       "    <tr>\n",
       "      <th>2</th>\n",
       "      <td>Prior to boarding a gate agent seemed to pick ...</td>\n",
       "    </tr>\n",
       "    <tr>\n",
       "      <th>3</th>\n",
       "      <td>I flew from Amsterdam to Las Vegas with a layo...</td>\n",
       "    </tr>\n",
       "    <tr>\n",
       "      <th>4</th>\n",
       "      <td>First the good news, the club suites are such ...</td>\n",
       "    </tr>\n",
       "    <tr>\n",
       "      <th>...</th>\n",
       "      <td>...</td>\n",
       "    </tr>\n",
       "    <tr>\n",
       "      <th>995</th>\n",
       "      <td>Sydney to London via Singapore with British Ai...</td>\n",
       "    </tr>\n",
       "    <tr>\n",
       "      <th>996</th>\n",
       "      <td>London to Johannesburg. British Airways is one...</td>\n",
       "    </tr>\n",
       "    <tr>\n",
       "      <th>997</th>\n",
       "      <td>I have to say travelling in Club Europe is a w...</td>\n",
       "    </tr>\n",
       "    <tr>\n",
       "      <th>998</th>\n",
       "      <td>I had a stress free journey with my 8 yr old a...</td>\n",
       "    </tr>\n",
       "    <tr>\n",
       "      <th>999</th>\n",
       "      <td>Edinburgh to Kuala Lumpur via London. I have j...</td>\n",
       "    </tr>\n",
       "  </tbody>\n",
       "</table>\n",
       "<p>1000 rows × 1 columns</p>\n",
       "</div>"
      ],
      "text/plain": [
       "                                               reviews\n",
       "0    The seats were excellent, with a feel of much ...\n",
       "1    After the nightmare of getting through triple ...\n",
       "2    Prior to boarding a gate agent seemed to pick ...\n",
       "3    I flew from Amsterdam to Las Vegas with a layo...\n",
       "4    First the good news, the club suites are such ...\n",
       "..                                                 ...\n",
       "995  Sydney to London via Singapore with British Ai...\n",
       "996  London to Johannesburg. British Airways is one...\n",
       "997  I have to say travelling in Club Europe is a w...\n",
       "998  I had a stress free journey with my 8 yr old a...\n",
       "999  Edinburgh to Kuala Lumpur via London. I have j...\n",
       "\n",
       "[1000 rows x 1 columns]"
      ]
     },
     "execution_count": 11,
     "metadata": {},
     "output_type": "execute_result"
    }
   ],
   "source": [
    "# remove unnessesary words\n",
    "unused_words = [\"✅ Trip Verified\", \"Not Verified\"]\n",
    "re_str = r\"(✅\\s*Trip\\s*Verified|Not\\s*Verified)\".format(\"|\".join(unused_words)) # find these words\n",
    "df_review[\"reviews\"] = df_review[\"reviews\"].str.replace(re_str, \"\", regex=True) # replace them with \"\"\n",
    "df_review[\"reviews\"] = df_review[\"reviews\"].str.strip('| ') # trim | character\n",
    "df_review"
   ]
  },
  {
   "cell_type": "code",
   "execution_count": 12,
   "metadata": {},
   "outputs": [
    {
     "name": "stdout",
     "output_type": "stream",
     "text": [
      "Most common words:\n",
      "flight: 1993\n",
      "ba: 1280\n",
      "service: 737\n",
      "time: 538\n",
      "london: 459\n",
      "crew: 453\n",
      "british: 448\n",
      "seat: 445\n",
      "food: 437\n",
      "class: 431\n",
      "airways: 428\n",
      "good: 423\n",
      "business: 403\n",
      "seats: 383\n",
      "staff: 382\n",
      "hours: 367\n",
      "cabin: 365\n",
      "customer: 309\n",
      "airline: 304\n",
      "told: 299\n"
     ]
    }
   ],
   "source": [
    "# preprocess text function\n",
    "def preprocess_text(text):\n",
    "    text = text.lower()\n",
    "    text = text.translate(str.maketrans('', '', string.punctuation))\n",
    "    words = text.split()\n",
    "    words = [word for word in words if word not in ENGLISH_STOP_WORDS]\n",
    "    return ' '.join(words)\n",
    "\n",
    "# apply to the reviews\n",
    "df_review[\"processed_reviews\"] = df_review[\"reviews\"].apply(preprocess_text)\n",
    "\n",
    "# compute word frequent\n",
    "all_words = ' '.join(df_review[\"processed_reviews\"]).split()\n",
    "word_freq = Counter(all_words)\n",
    "common_words = word_freq.most_common(20)\n",
    "\n",
    "# display the most common words\n",
    "print(\"Most common words:\")\n",
    "for word, freq in common_words:\n",
    "    print(f\"{word}: {freq}\")\n"
   ]
  },
  {
   "cell_type": "markdown",
   "metadata": {},
   "source": [
    "### VADER wording analysis"
   ]
  },
  {
   "cell_type": "code",
   "execution_count": 13,
   "metadata": {},
   "outputs": [
    {
     "name": "stdout",
     "output_type": "stream",
     "text": [
      "Most positive words:\n",
      "flight: 1001\n",
      "ba: 677\n",
      "service: 403\n",
      "good: 371\n",
      "crew: 333\n",
      "time: 332\n",
      "food: 298\n",
      "seat: 260\n",
      "cabin: 259\n",
      "class: 255\n",
      "business: 246\n",
      "seats: 237\n",
      "london: 224\n",
      "british: 213\n",
      "staff: 208\n",
      "airways: 203\n",
      "did: 166\n",
      "boarding: 159\n",
      "club: 158\n",
      "just: 156\n",
      "\n",
      "Most negative words:\n",
      "flight: 992\n",
      "ba: 603\n",
      "service: 334\n",
      "london: 235\n",
      "british: 235\n",
      "hours: 232\n",
      "airways: 225\n",
      "time: 206\n",
      "customer: 195\n",
      "told: 190\n",
      "seat: 185\n",
      "cancelled: 180\n",
      "airline: 177\n",
      "class: 176\n",
      "staff: 174\n",
      "business: 157\n",
      "flights: 155\n",
      "airport: 151\n",
      "heathrow: 146\n",
      "seats: 146\n"
     ]
    }
   ],
   "source": [
    "# Initialise VADER analyser\n",
    "vader_analyser = SentimentIntensityAnalyzer()\n",
    "\n",
    "# function to classify comments\n",
    "def classify_sentiment(text):\n",
    "    score = vader_analyser.polarity_scores(text)\n",
    "    return  \"positive\" if score[\"compound\"] > 0 else \"negative\"\n",
    "\n",
    "# classify comments\n",
    "df_review[\"sentiment\"] = df_review[\"processed_reviews\"].apply(classify_sentiment)\n",
    "\n",
    "# separate positive and negative comments\n",
    "positive_reviews = ' '.join(df_review[df_review[\"sentiment\"] == \"positive\"][\"processed_reviews\"]).split()\n",
    "negative_reviews = ' '.join(df_review[df_review[\"sentiment\"] == \"negative\"][\"processed_reviews\"]).split()\n",
    "\n",
    "# compute word frequencies \n",
    "positive_word_freq = Counter(positive_reviews)\n",
    "negative_word_freq = Counter(negative_reviews)\n",
    "\n",
    "top_positive_words = positive_word_freq.most_common(20)\n",
    "top_negative_words = negative_word_freq.most_common(20)\n",
    "\n",
    "# display the most positive/negative words\n",
    "print(\"Most positive words:\")\n",
    "for word, freq in top_positive_words:\n",
    "    print(f\"{word}: {freq}\")\n",
    "\n",
    "print(\"\\nMost negative words:\")\n",
    "for word, freq in top_negative_words:\n",
    "    print(f\"{word}: {freq}\")"
   ]
  },
  {
   "cell_type": "code",
   "execution_count": 14,
   "metadata": {},
   "outputs": [
    {
     "data": {
      "image/png": "[encoded data removed]",
      "text/plain": [
       "<Figure size 1200x600 with 1 Axes>"
      ]
     },
     "metadata": {},
     "output_type": "display_data"
    },
    {
     "data": {
      "image/png": "[encoded data removed]",
      "text/plain": [
       "<Figure size 1200x600 with 1 Axes>"
      ]
     },
     "metadata": {},
     "output_type": "display_data"
    }
   ],
   "source": [
    "# display bar charts for positive and negative words\n",
    "positive_words_df = pd.DataFrame(top_positive_words, columns=['word', 'frequency'])\n",
    "negative_words_df = pd.DataFrame(top_negative_words, columns=['word', 'frequency'])\n",
    "\n",
    "plt.figure(figsize=(12, 6))\n",
    "plt.bar(positive_words_df['word'], positive_words_df['frequency'], color='green')\n",
    "plt.title('Top Words in Positive Reviews')\n",
    "plt.xlabel('Words')\n",
    "plt.ylabel('Frequency')\n",
    "plt.xticks(rotation=45)\n",
    "plt.show()\n",
    "\n",
    "plt.figure(figsize=(12, 6))\n",
    "plt.bar(negative_words_df['word'], negative_words_df['frequency'], color='red')\n",
    "plt.title('Top Words in Negative Reviews')\n",
    "plt.xlabel('Words')\n",
    "plt.ylabel('Frequency')\n",
    "plt.xticks(rotation=45)\n",
    "plt.show()"
   ]
  },
  {
   "cell_type": "markdown",
   "metadata": {},
   "source": [
    "#### VADER review analysis"
   ]
  },
  {
   "cell_type": "code",
   "execution_count": 15,
   "metadata": {},
   "outputs": [
    {
     "name": "stdout",
     "output_type": "stream",
     "text": [
      "VADER Sentiment Distribution: \n",
      "vader_sentiment\n",
      "positive    53.6\n",
      "negative    44.5\n",
      "neutral      1.9\n",
      "Name: count, dtype: float64\n"
     ]
    },
    {
     "name": "stderr",
     "output_type": "stream",
     "text": [
      "C:\\Users\\acer\\AppData\\Local\\Temp\\ipykernel_33484\\1481812672.py:29: FutureWarning: Series.__getitem__ treating keys as positions is deprecated. In a future version, integer keys will always be treated as labels (consistent with DataFrame behavior). To access a value by position, use `ser.iloc[pos]`\n",
      "  percentage = vader_sentiment_distribution[i]\n"
     ]
    },
    {
     "data": {
      "image/png": "[encoded data removed]",
      "text/plain": [
       "<Figure size 1800x500 with 1 Axes>"
      ]
     },
     "metadata": {},
     "output_type": "display_data"
    }
   ],
   "source": [
    "# Initialise VADER analyser\n",
    "analyser = SentimentIntensityAnalyzer()\n",
    "\n",
    "# function to classify comments\n",
    "def classify_sentiment(text):\n",
    "    score = analyser.polarity_scores(text)\n",
    "    if score[\"compound\"] > 0.05:\n",
    "        return \"positive\"\n",
    "    elif score[\"compound\"] < -0.05:\n",
    "        return \"negative\"\n",
    "    else:\n",
    "        return \"neutral\"\n",
    "\n",
    "# apply VADER sentiment analysis\n",
    "df_review[\"vader_sentiment\"] = df_review[\"processed_reviews\"].apply(classify_sentiment)\n",
    "\n",
    "# calculate the distribution\n",
    "vader_sentiment_counts = df_review[\"vader_sentiment\"].value_counts()\n",
    "vader_sentiment_distribution = vader_sentiment_counts / len(df_review) * 100\n",
    "print(\"VADER Sentiment Distribution: \")\n",
    "print(vader_sentiment_distribution)\n",
    "\n",
    "# plotting the bar chart\n",
    "plt.figure(figsize = (18, 5))\n",
    "bar_plot = vader_sentiment_distribution.plot(kind = \"bar\", color = [\"green\", \"red\", \"gray\"])\n",
    "\n",
    "# add annotations\n",
    "for i, count in enumerate(vader_sentiment_counts):\n",
    "    percentage = vader_sentiment_distribution[i]\n",
    "    bar_plot.text(i, percentage + 1, f\"{int(count)}\", ha = \"center\", va = \"bottom\")\n",
    "\n",
    "plt.title('VADER Sentiment Distribution')\n",
    "plt.xlabel('Sentiment')\n",
    "plt.ylabel('Percentage')\n",
    "plt.xticks(rotation=0)\n",
    "plt.show()"
   ]
  },
  {
   "cell_type": "code",
   "execution_count": 16,
   "metadata": {},
   "outputs": [
    {
     "name": "stdout",
     "output_type": "stream",
     "text": [
      "Examples of reviews that VADER analysed:\n",
      "\n",
      "Review 1: The seats were excellent, with a feel of much more room than the official seat pitch (I am 6ft 1in). We could sleep for a couple of hours (daytime flight), with the blinds down as they should be (no point booking a window seat in my view). I focus on seat quality much more than smiley faces and food (the food was middling, and the second meal, before landing, was distinctly sub-par).\n",
      "VADER Sentiment: positive\n",
      "Review 2: After the nightmare of getting through triple security at Nairobi Airport, I was looking forward to a glass of something lovely to unwind on the plane. Fat chance. An hour and a half after takeoff we were finally served a drink and meal together. I keep reading how well BA are now doing, but on both legs of this trip the crew were awful. The club suites are a great improvement but if the staff make no effort, what’s the point? On a positive note we were told my wife’s seat was broken and could not recline. I was going to swop, but at the gate they found her another. Prior to this we received an email within 30 minutes of check in with a healthy portion of Avios already added to our account. Well done customer service.\n",
      "VADER Sentiment: positive\n",
      "Review 3: Prior to boarding a gate agent seemed to pick on elderly people and asked them to check in relatively small bags. By contrast the same staff member looked the other way to a boisterous group of 20 somethings all of whom had large amounts of luggage. London Gatwick to Marrakech with British Airways was rather disappointing. The flight is just over 3 hours and during this flight passengers in economy were offered a tiny packet of digestive biscuits. No water was offered other than a cabin crew member walking through the aisle with a bottle of mineral water and plastic cups. She claimed she ran out of water and so many passengers did not even get that miserly offering. There was no route map on this A320. The captain made only 2 very brief announcements. When I needed to use the lavatory one cabin crew member rudely drew the curtain as she was sitting behind the lavatories with one of her colleagues – they were loudly talking about their boyfriends and ignored an elderly man who was struggling to open the small door to the lavatory. I shall add that the lavatory was unclean and had water on the floor. One concern was the seemingly casual approach to the safety demonstration. Disembarkation was not well managed either. This route is very competitive and these days one has a lot of choice. I will not use British Airways on this route.\n",
      "VADER Sentiment: negative\n",
      "Review 4: I flew from Amsterdam to Las Vegas with a layover in Heathrow in November 2024. The day we were flying the weather wasn't great. Since I was on business I really needed to get to Las Vegas, we anticipated on it and checked early if our flight was still leaving. We would have had ample time to catch an earlier flight to Heathrow or even take the train when we checked. According to google our flight was delayed and we would miss our connection. According to the staff of British airways the flight was not delayed and there was no reason for panic. When we got to the airport there was still nothing wrong with our connection. An hour before we were supposed to leave it was announced that the plane wasn't there yet and we would have a major delay. We called customer service and they told us to just go to London and see from there. We wanted some kind of assurance that we could be placed in a hotel since we would not be making our connecting flight and they refused to give those. In the end we found a direct flight the next day and convinced British airways to book that for us. Even though they wanted to connect us through 3 additional layovers.. This resulted in approximately a 24 hour delay in our trip. On our way back home they lost our luggage at the gate and took approximately 2 hours to find it at a wrong gate. On the way back we tried to check in through the online portal. My colleague was able to check in just fine but I couldn't. I was afraid I was overbooked and contacted customer service 3 times.  When I got to the airport I was overbooked and the ground staff had the nerve to tell me it was my fault for not checking in online. Since we were seated in premium economy I could be moved to regular economy but that does mean someone in economy was bumped off the plane. When we got to London our flight back to Amsterdam was delayed. This was because there were disabled people on board of the plane still and there were not enough wheelchairs to get them off. It took approximately 2 hours before boarding could begin.  When we finally boarded we were told we needed a new pilot because the old pilot had now made too many hours waiting around to still fly us to Amsterdam. Arriving in Amsterdam they had left my luggage in Las Vegas so I needed to wait for another week before that was given back to me. Afterwards I have made a claim as soon as possible for my delays and hotel costs, it's been almost 3 months and they still haven't replied. Every time I contact them they claim they have such a huge backlog that it takes long to process them.\n",
      "VADER Sentiment: negative\n",
      "Review 5: First the good news, the club suites are such a huge improvement over the old business seats I hope I never see one again. The not so good news I’m afraid to say was the flight itself. The food has really gone downhill since my last flight, presumably this is a cost cutting measure. If other airlines can offer a really decent quality meal why can’t an airline of BA’s stature? I’ve always thought that a good crew can make up for all the shortcomings but not this time. The crew member looking after me could not have been more bored and was obviously just going through the motions. They couldn’t even be bothered to say cheerio, and I’m not sure I would have answered if they did. Here’s hoping my return is a more satisfying experience.\n",
      "VADER Sentiment: positive\n",
      "Review 6: I have never travelled with British airways before and this is the first time I chose to travel with BA due to the cheapest fare available during this time but I was bit unsure if I can enjoy my travel journey due to mixed reviews. I would like to express my extreme joy and satisfaction travelling with this amazing airline. I haven't seen such a great, efficient and friendly service by the cabin crew. I would like to personally thanks Ellie and Adam who were not only very professional but very kind too. Food served was delicious and the drinks were good too. I can say that I thoroughly enjoyed this flight and do not hesitate to recommend to anyone to try it\n",
      "VADER Sentiment: positive\n",
      "Review 7: Terrible overall, medium service and the flight was delayed. There was no help at all to reschedule a connecting flight. The customer support was terrible and the request for compensation is still pending after one year.\n",
      "VADER Sentiment: negative\n",
      "Review 8: London Heathrow to Male In new business class. BA continues to get its mojo back starting with a classy lounge serving innovative, and interesting, quality pre-flight food (beetroot scotch eggs?). Excellent wine (Whispering Angel). Presentation of on-board food has always been a bit hit and miss with BA, but on this occasion it was tasty and OK. Friendly and efficient on board crew. Smile, treat them respectfully, and as equals.  On time flight and early arrival.  Only awarding a 9 because we were bussed from A-C gates, otherwise a really enjoyable experience.\n",
      "VADER Sentiment: positive\n",
      "Review 9: Very good flight following an equally good flight to Rome. Good food (especially on an evening flight) and aircraft early both ways. Just what short haul should be.\n",
      "VADER Sentiment: positive\n",
      "Review 10: An hour's delay due to late arrival of the incoming aircraft. The captain was a particularly able communicator who kept us in touch with the situation. We got freebie upgrades to emergency exit seats from a friendly member of the crew. In the end we were only 30 minutes behind schedule in a relatively comfortable elderly plane. Pretty stress free.\n",
      "VADER Sentiment: positive\n"
     ]
    }
   ],
   "source": [
    "# display first 10 reviews\n",
    "print(\"Examples of reviews that VADER analysed:\\n\")\n",
    "for index, row in df_review.head(10).iterrows():\n",
    "    print(f\"Review {index + 1}: {row['reviews']}\")\n",
    "    print(f\"VADER Sentiment: {row['vader_sentiment']}\")"
   ]
  }
 ],
 "metadata": {
  "kernelspec": {
   "display_name": "base",
   "language": "python",
   "name": "python3"
  },
  "language_info": {
   "codemirror_mode": {
    "name": "ipython",
    "version": 3
   },
   "file_extension": ".py",
   "mimetype": "text/x-python",
   "name": "python",
   "nbconvert_exporter": "python",
   "pygments_lexer": "ipython3",
   "version": "3.12.9"
  }
 },
 "nbformat": 4,
 "nbformat_minor": 2
}
